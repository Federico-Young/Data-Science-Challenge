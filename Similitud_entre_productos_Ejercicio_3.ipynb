{
 "cells": [
  {
   "cell_type": "markdown",
   "id": "b9c494f8-5a58-45d8-999a-bf77e142a2e8",
   "metadata": {},
   "source": [
    "# Imports"
   ]
  },
  {
   "cell_type": "code",
   "execution_count": null,
   "id": "fc5e0810-85cf-4288-8067-61cc16ef13fd",
   "metadata": {},
   "outputs": [],
   "source": [
    "import pandas as pd\n",
    "import numpy as np\n",
    "import nltk\n",
    "from sklearn.metrics.pairwise import cosine_similarity\n",
    "from nltk.stem import PorterStemmer\n",
    "from nltk.corpus import stopwords\n",
    "from sklearn.feature_extraction.text import CountVectorizer\n",
    "import warnings\n",
    "warnings.filterwarnings('ignore')"
   ]
  },
  {
   "cell_type": "markdown",
   "id": "27fa7e01-c6e1-49a8-bf82-7c1a9cf2091b",
   "metadata": {},
   "source": [
    "# Loading data"
   ]
  },
  {
   "cell_type": "code",
   "execution_count": 22,
   "id": "becfbc81-e769-4ccf-bf86-21ba92485960",
   "metadata": {},
   "outputs": [],
   "source": [
    "df = pd.read_csv('items_titles_test.csv') "
   ]
  },
  {
   "cell_type": "code",
   "execution_count": 23,
   "id": "f5f3047e-a2cd-407a-bd79-a6fc6fc1fe5d",
   "metadata": {},
   "outputs": [
    {
     "data": {
      "text/html": [
       "<div>\n",
       "<style scoped>\n",
       "    .dataframe tbody tr th:only-of-type {\n",
       "        vertical-align: middle;\n",
       "    }\n",
       "\n",
       "    .dataframe tbody tr th {\n",
       "        vertical-align: top;\n",
       "    }\n",
       "\n",
       "    .dataframe thead th {\n",
       "        text-align: right;\n",
       "    }\n",
       "</style>\n",
       "<table border=\"1\" class=\"dataframe\">\n",
       "  <thead>\n",
       "    <tr style=\"text-align: right;\">\n",
       "      <th></th>\n",
       "      <th>ITE_ITEM_TITLE</th>\n",
       "    </tr>\n",
       "  </thead>\n",
       "  <tbody>\n",
       "    <tr>\n",
       "      <th>0</th>\n",
       "      <td>Tênis Olympikus Esporte Valente - Masculino Kids</td>\n",
       "    </tr>\n",
       "    <tr>\n",
       "      <th>1</th>\n",
       "      <td>Bicicleta Barra Forte Samy C/ 6 Marchas Cubo C...</td>\n",
       "    </tr>\n",
       "    <tr>\n",
       "      <th>2</th>\n",
       "      <td>Tênis Usthemp Slip-on Temático - Labrador 2</td>\n",
       "    </tr>\n",
       "    <tr>\n",
       "      <th>3</th>\n",
       "      <td>Tênis Casual Feminino Moleca Tecido Tie Dye</td>\n",
       "    </tr>\n",
       "    <tr>\n",
       "      <th>4</th>\n",
       "      <td>Tênis Star Baby Sapatinho Conforto + Brinde</td>\n",
       "    </tr>\n",
       "  </tbody>\n",
       "</table>\n",
       "</div>"
      ],
      "text/plain": [
       "                                      ITE_ITEM_TITLE\n",
       "0   Tênis Olympikus Esporte Valente - Masculino Kids\n",
       "1  Bicicleta Barra Forte Samy C/ 6 Marchas Cubo C...\n",
       "2       Tênis Usthemp Slip-on Temático - Labrador 2\n",
       "3        Tênis Casual Feminino Moleca Tecido Tie Dye\n",
       "4        Tênis Star Baby Sapatinho Conforto + Brinde"
      ]
     },
     "execution_count": 23,
     "metadata": {},
     "output_type": "execute_result"
    }
   ],
   "source": [
    "df.head()"
   ]
  },
  {
   "cell_type": "markdown",
   "id": "d45e828f-9e25-4742-ad8b-9f0170be7425",
   "metadata": {},
   "source": [
    "# Removing Stopwords "
   ]
  },
  {
   "cell_type": "code",
   "execution_count": 5,
   "id": "78a53d5d-c9bb-4ebe-ae89-0d488f956247",
   "metadata": {},
   "outputs": [],
   "source": [
    "stop_words = stopwords.words(\"portuguese\")\n",
    "df[\"ITE_ITEM_TITLE\"] = df[\"ITE_ITEM_TITLE\"].apply(\n",
    "    lambda x: \" \".join([word for word in x.split() if word not in (stop_words)])\n",
    ")\n"
   ]
  },
  {
   "cell_type": "markdown",
   "id": "0b146b33-1ed6-4a94-8c5d-528c90d61a9a",
   "metadata": {},
   "source": [
    "# Stemming"
   ]
  },
  {
   "cell_type": "code",
   "execution_count": 7,
   "id": "cb904d61-cef1-4b93-a417-c7f63f8b2eff",
   "metadata": {},
   "outputs": [],
   "source": [
    "porter_stemmer = PorterStemmer()\n",
    "\n",
    "def stem_sentences(sentence):\n",
    "    tokens = sentence.split()\n",
    "    stemmed_tokens = [porter_stemmer.stem(token) for token in tokens]\n",
    "    return ' '.join(stemmed_tokens)\n",
    "\n",
    "\n",
    "df[\"ITE_ITEM_TITLE\"] = df[\"ITE_ITEM_TITLE\"].apply(stem_sentences)"
   ]
  },
  {
   "cell_type": "markdown",
   "id": "9b97eed6-380c-4fd7-a354-4c95fe125634",
   "metadata": {},
   "source": [
    "# Bag of Words"
   ]
  },
  {
   "cell_type": "code",
   "execution_count": 9,
   "id": "86b97f28-95bd-4000-bd71-5a2d2424e13a",
   "metadata": {},
   "outputs": [],
   "source": [
    "vect = CountVectorizer(analyzer = 'word', ngram_range = (1,2), min_df = 0.002)\n",
    "bow_matrix = vect.fit_transform(df[\"ITE_ITEM_TITLE\"])"
   ]
  },
  {
   "cell_type": "code",
   "execution_count": 11,
   "id": "40b18ce5-1e68-481a-bd7b-c9baa7552960",
   "metadata": {},
   "outputs": [
    {
     "name": "stdout",
     "output_type": "stream",
     "text": [
      "Cantidad de palabras a utilizar:  686\n"
     ]
    }
   ],
   "source": [
    "print(\"Cantidad de palabras a utilizar: \",len(vect.get_feature_names_out()))"
   ]
  },
  {
   "cell_type": "markdown",
   "id": "3a001235-1535-47b4-9b8f-6b72223b9837",
   "metadata": {},
   "source": [
    "# Matriz de similitud"
   ]
  },
  {
   "cell_type": "markdown",
   "id": "0b0faa69-5d59-4114-b5b7-e5777a9836dc",
   "metadata": {},
   "source": [
    "**Usamos la distancia del coseno**"
   ]
  },
  {
   "cell_type": "code",
   "execution_count": 24,
   "id": "32e62746-eb41-4873-9a25-76f88c302ca4",
   "metadata": {},
   "outputs": [],
   "source": [
    "item_bow_similarity = cosine_similarity(bow_matrix, bow_matrix)"
   ]
  },
  {
   "cell_type": "code",
   "execution_count": 25,
   "id": "fb2ed98e-a0f7-424f-adfa-21c6bcc1b0ba",
   "metadata": {},
   "outputs": [],
   "source": [
    "#Convertimos a dataframe\n",
    "item_bow_similarity_df = pd.DataFrame(item_bow_similarity,\n",
    "                                        columns=df['ITE_ITEM_TITLE'].values,\n",
    "                                        index=df['ITE_ITEM_TITLE'].values)"
   ]
  },
  {
   "cell_type": "code",
   "execution_count": 27,
   "id": "91599460-3f35-4ca3-893b-93d00323f14e",
   "metadata": {},
   "outputs": [],
   "source": [
    "#Convertimos a NaN el triangulo inferior\n",
    "item_bow_similarity_df = (item_bow_similarity_df.where(np.triu(np.ones(item_bow_similarity_df.shape))\n",
    "                                                       .astype(np.bool)\n",
    "                                                      )\n",
    "                         ).stack().reset_index()"
   ]
  },
  {
   "cell_type": "code",
   "execution_count": 29,
   "id": "1b547578-82ff-4c5d-ac21-c58b85f7bb05",
   "metadata": {},
   "outputs": [],
   "source": [
    "df_final = item_bow_similarity_df.rename(columns={'level_0': 'ITE_ITEM_TITLE',\n",
    "                                                  'level_1': 'ITE_ITEM_TITLE',\n",
    "                                                  0: 'score'\n",
    "                                                 }\n",
    "                                        )"
   ]
  },
  {
   "cell_type": "code",
   "execution_count": 30,
   "id": "59b018f6-f67f-45ee-b402-f8024a018789",
   "metadata": {},
   "outputs": [
    {
     "data": {
      "text/html": [
       "<div>\n",
       "<style scoped>\n",
       "    .dataframe tbody tr th:only-of-type {\n",
       "        vertical-align: middle;\n",
       "    }\n",
       "\n",
       "    .dataframe tbody tr th {\n",
       "        vertical-align: top;\n",
       "    }\n",
       "\n",
       "    .dataframe thead th {\n",
       "        text-align: right;\n",
       "    }\n",
       "</style>\n",
       "<table border=\"1\" class=\"dataframe\">\n",
       "  <thead>\n",
       "    <tr style=\"text-align: right;\">\n",
       "      <th></th>\n",
       "      <th>ITE_ITEM_TITLE</th>\n",
       "      <th>ITE_ITEM_TITLE</th>\n",
       "      <th>score</th>\n",
       "    </tr>\n",
       "  </thead>\n",
       "  <tbody>\n",
       "    <tr>\n",
       "      <th>0</th>\n",
       "      <td>Tênis Olympikus Esporte Valente - Masculino Kids</td>\n",
       "      <td>Tênis Olympikus Esporte Valente - Masculino Kids</td>\n",
       "      <td>1.000000</td>\n",
       "    </tr>\n",
       "    <tr>\n",
       "      <th>1</th>\n",
       "      <td>Tênis Olympikus Esporte Valente - Masculino Kids</td>\n",
       "      <td>Bicicleta Barra Forte Samy C/ 6 Marchas Cubo C...</td>\n",
       "      <td>0.000000</td>\n",
       "    </tr>\n",
       "    <tr>\n",
       "      <th>2</th>\n",
       "      <td>Tênis Olympikus Esporte Valente - Masculino Kids</td>\n",
       "      <td>Tênis Usthemp Slip-on Temático - Labrador 2</td>\n",
       "      <td>0.136083</td>\n",
       "    </tr>\n",
       "    <tr>\n",
       "      <th>3</th>\n",
       "      <td>Tênis Olympikus Esporte Valente - Masculino Kids</td>\n",
       "      <td>Tênis Casual Feminino Moleca Tecido Tie Dye</td>\n",
       "      <td>0.123091</td>\n",
       "    </tr>\n",
       "    <tr>\n",
       "      <th>4</th>\n",
       "      <td>Tênis Olympikus Esporte Valente - Masculino Kids</td>\n",
       "      <td>Tênis Star Baby Sapatinho Conforto + Brinde</td>\n",
       "      <td>0.182574</td>\n",
       "    </tr>\n",
       "  </tbody>\n",
       "</table>\n",
       "</div>"
      ],
      "text/plain": [
       "                                     ITE_ITEM_TITLE  \\\n",
       "0  Tênis Olympikus Esporte Valente - Masculino Kids   \n",
       "1  Tênis Olympikus Esporte Valente - Masculino Kids   \n",
       "2  Tênis Olympikus Esporte Valente - Masculino Kids   \n",
       "3  Tênis Olympikus Esporte Valente - Masculino Kids   \n",
       "4  Tênis Olympikus Esporte Valente - Masculino Kids   \n",
       "\n",
       "                                      ITE_ITEM_TITLE     score  \n",
       "0   Tênis Olympikus Esporte Valente - Masculino Kids  1.000000  \n",
       "1  Bicicleta Barra Forte Samy C/ 6 Marchas Cubo C...  0.000000  \n",
       "2       Tênis Usthemp Slip-on Temático - Labrador 2  0.136083  \n",
       "3        Tênis Casual Feminino Moleca Tecido Tie Dye  0.123091  \n",
       "4        Tênis Star Baby Sapatinho Conforto + Brinde  0.182574  "
      ]
     },
     "execution_count": 30,
     "metadata": {},
     "output_type": "execute_result"
    }
   ],
   "source": [
    "df_final.head()"
   ]
  },
  {
   "cell_type": "code",
   "execution_count": null,
   "id": "d2d373ce-f937-4c23-b18c-5b349f510442",
   "metadata": {},
   "outputs": [
    {
     "data": {
      "text/html": [
       "<div>\n",
       "<style scoped>\n",
       "    .dataframe tbody tr th:only-of-type {\n",
       "        vertical-align: middle;\n",
       "    }\n",
       "\n",
       "    .dataframe tbody tr th {\n",
       "        vertical-align: top;\n",
       "    }\n",
       "\n",
       "    .dataframe thead th {\n",
       "        text-align: right;\n",
       "    }\n",
       "</style>\n",
       "<table border=\"1\" class=\"dataframe\">\n",
       "  <thead>\n",
       "    <tr style=\"text-align: right;\">\n",
       "      <th></th>\n",
       "      <th>ITE_ITEM_TITLE</th>\n",
       "      <th>ITE_ITEM_TITLE</th>\n",
       "      <th>score</th>\n",
       "    </tr>\n",
       "  </thead>\n",
       "  <tbody>\n",
       "    <tr>\n",
       "      <th>23378247</th>\n",
       "      <td>teni feminino sapato feminino casual sapateni ...</td>\n",
       "      <td>teni feminino sapato feminino casual sapateni ...</td>\n",
       "      <td>1.0</td>\n",
       "    </tr>\n",
       "    <tr>\n",
       "      <th>0</th>\n",
       "      <td>têni olympiku esport valent - masculino kid</td>\n",
       "      <td>têni olympiku esport valent - masculino kid</td>\n",
       "      <td>1.0</td>\n",
       "    </tr>\n",
       "    <tr>\n",
       "      <th>23312529</th>\n",
       "      <td>têni moleca slip on super confortável 5657101 ...</td>\n",
       "      <td>têni moleca slip on super confortável 5657101 ...</td>\n",
       "      <td>1.0</td>\n",
       "    </tr>\n",
       "    <tr>\n",
       "      <th>23210140</th>\n",
       "      <td>slip teni mickey personagen disney slip feminino</td>\n",
       "      <td>slip teni mickey personagen disney slip feminino</td>\n",
       "      <td>1.0</td>\n",
       "    </tr>\n",
       "    <tr>\n",
       "      <th>23224779</th>\n",
       "      <td>sneaker têni chunki feminino flatform em couro...</td>\n",
       "      <td>sneaker têni chunki feminino flatform em couro...</td>\n",
       "      <td>1.0</td>\n",
       "    </tr>\n",
       "    <tr>\n",
       "      <th>...</th>\n",
       "      <td>...</td>\n",
       "      <td>...</td>\n",
       "      <td>...</td>\n",
       "    </tr>\n",
       "    <tr>\n",
       "      <th>7796089</th>\n",
       "      <td>tv 26 lg 26le5300</td>\n",
       "      <td>sapatenisteni masculino polo plu sport origin jog</td>\n",
       "      <td>0.0</td>\n",
       "    </tr>\n",
       "    <tr>\n",
       "      <th>7796090</th>\n",
       "      <td>tv 26 lg 26le5300</td>\n",
       "      <td>têni redley / estampa floral</td>\n",
       "      <td>0.0</td>\n",
       "    </tr>\n",
       "    <tr>\n",
       "      <th>7796091</th>\n",
       "      <td>tv 26 lg 26le5300</td>\n",
       "      <td>têni masculino olympiku cristal marinho origin...</td>\n",
       "      <td>0.0</td>\n",
       "    </tr>\n",
       "    <tr>\n",
       "      <th>31333794</th>\n",
       "      <td>têni infantil de led rosa</td>\n",
       "      <td>bicicleta elétrica miami aro 26 retrô 350w 7.8...</td>\n",
       "      <td>0.0</td>\n",
       "    </tr>\n",
       "    <tr>\n",
       "      <th>25002500</th>\n",
       "      <td>teni meia colcci</td>\n",
       "      <td>sapatilha mtb absolut prime amarela tam 42 br ...</td>\n",
       "      <td>0.0</td>\n",
       "    </tr>\n",
       "  </tbody>\n",
       "</table>\n",
       "<p>50005000 rows × 3 columns</p>\n",
       "</div>"
      ],
      "text/plain": [
       "                                             ITE_ITEM_TITLE  \\\n",
       "23378247  teni feminino sapato feminino casual sapateni ...   \n",
       "0               têni olympiku esport valent - masculino kid   \n",
       "23312529  têni moleca slip on super confortável 5657101 ...   \n",
       "23210140   slip teni mickey personagen disney slip feminino   \n",
       "23224779  sneaker têni chunki feminino flatform em couro...   \n",
       "...                                                     ...   \n",
       "7796089                                   tv 26 lg 26le5300   \n",
       "7796090                                   tv 26 lg 26le5300   \n",
       "7796091                                   tv 26 lg 26le5300   \n",
       "31333794                          têni infantil de led rosa   \n",
       "25002500                                   teni meia colcci   \n",
       "\n",
       "                                             ITE_ITEM_TITLE  score  \n",
       "23378247  teni feminino sapato feminino casual sapateni ...    1.0  \n",
       "0               têni olympiku esport valent - masculino kid    1.0  \n",
       "23312529  têni moleca slip on super confortável 5657101 ...    1.0  \n",
       "23210140   slip teni mickey personagen disney slip feminino    1.0  \n",
       "23224779  sneaker têni chunki feminino flatform em couro...    1.0  \n",
       "...                                                     ...    ...  \n",
       "7796089   sapatenisteni masculino polo plu sport origin jog    0.0  \n",
       "7796090                        têni redley / estampa floral    0.0  \n",
       "7796091   têni masculino olympiku cristal marinho origin...    0.0  \n",
       "31333794  bicicleta elétrica miami aro 26 retrô 350w 7.8...    0.0  \n",
       "25002500  sapatilha mtb absolut prime amarela tam 42 br ...    0.0  \n",
       "\n",
       "[50005000 rows x 3 columns]"
      ]
     },
     "execution_count": 20,
     "metadata": {},
     "output_type": "execute_result"
    }
   ],
   "source": [
    "df_final = df_final.sort_values(by='score', ascending=False)"
   ]
  }
 ],
 "metadata": {
  "kernelspec": {
   "display_name": "Python 3 (ipykernel)",
   "language": "python",
   "name": "python3"
  },
  "language_info": {
   "codemirror_mode": {
    "name": "ipython",
    "version": 3
   },
   "file_extension": ".py",
   "mimetype": "text/x-python",
   "name": "python",
   "nbconvert_exporter": "python",
   "pygments_lexer": "ipython3",
   "version": "3.8.10"
  }
 },
 "nbformat": 4,
 "nbformat_minor": 5
}
